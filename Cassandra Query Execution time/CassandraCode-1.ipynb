{
 "cells": [
  {
   "cell_type": "code",
   "execution_count": 9,
   "metadata": {},
   "outputs": [
    {
     "name": "stdout",
     "output_type": "stream",
     "text": [
      "Requirement already satisfied: cassandra-driver in /home/maneesh/.local/lib/python3.8/site-packages (3.25.0)\n",
      "Requirement already satisfied: geomet<0.3,>=0.1 in /home/maneesh/.local/lib/python3.8/site-packages (from cassandra-driver) (0.2.1.post1)\n",
      "Requirement already satisfied: six>=1.9 in /usr/lib/python3/dist-packages (from cassandra-driver) (1.14.0)\n",
      "Requirement already satisfied: click in /usr/local/lib/python3.8/dist-packages (from geomet<0.3,>=0.1->cassandra-driver) (8.1.3)\n",
      "Note: you may need to restart the kernel to use updated packages.\n"
     ]
    }
   ],
   "source": [
    "pip install cassandra-driver"
   ]
  },
  {
   "cell_type": "code",
   "execution_count": 10,
   "metadata": {},
   "outputs": [],
   "source": [
    "import uuid \n",
    "import random\n",
    "from datetime import datetime, timedelta\n",
    "from cassandra.cluster import Cluster\n",
    "\n",
    "cluster = Cluster(['127.0.0.1'], port=9042)\n",
    "session = cluster.connect('healthcare')"
   ]
  },
  {
   "cell_type": "code",
   "execution_count": 11,
   "metadata": {},
   "outputs": [],
   "source": [
    "from random import randrange\n",
    "import calendar\n",
    "\n",
    "\n",
    "def random_date(start, end): \n",
    "    #fxn to return a random objects b/w 2 datetime objects\n",
    "    delta = end - start\n",
    "    int_delta = (delta.days * 24 * 60 * 60) + delta.seconds\n",
    "    random_second = randrange(int_delta)\n",
    "    dt = start + timedelta(seconds=random_second)\n",
    "    return calendar.month_abbr[dt.month], int(dt.year)"
   ]
  },
  {
   "cell_type": "code",
   "execution_count": 13,
   "metadata": {},
   "outputs": [],
   "source": [
    "def insert():\n",
    "\n",
    "    names= random.choice(['MANEESH', 'AAYAN', \"LOKESH\", \"TEJA\", 'ROHITH', \"ACHYUTH\", \"AJITH\", \"HIMASAI\", \"AKSHIT\", \"MAYANK\", \"MANU\", \"GOVIND\", \"ABHIMANYU\"])\n",
    "    bp = str(str(random.randint(90,140)) + \"/\" + str(random.randint(60,90)))\n",
    "    calorie = int(random.randint(50,150))\n",
    "    o2 = float(random.randint(10,18) + random.random())\n",
    "    heart = int(random.randint(50,90))\n",
    "    d1 = datetime.strptime('1/1/2015', '%m/%d/%Y')\n",
    "    d2 = datetime.strptime('1/1/2023', '%m/%d/%Y')\n",
    "    mon, yr = random_date(d1, d2)\n",
    "\n",
    "\n",
    "    CQLString = \"INSERT INTO person_year_time(pid, year, mon, time, bp, calorie, o2, heartbeat, name) VALUES ( uuid(), %s, %s, toTimestamp(now()), %s,%s,%s,%s,%s)\"\n",
    "    session.execute(CQLString, (yr, mon, bp, calorie, o2, heart, names))\n",
    "\n",
    "for i in range(10000):\n",
    "    insert()"
   ]
  }
 ],
 "metadata": {
  "interpreter": {
   "hash": "916dbcbb3f70747c44a77c7bcd40155683ae19c65e1c03b4aa3499c5328201f1"
  },
  "kernelspec": {
   "display_name": "Python 3.8.10 64-bit",
   "language": "python",
   "name": "python3"
  },
  "language_info": {
   "codemirror_mode": {
    "name": "ipython",
    "version": 3
   },
   "file_extension": ".py",
   "mimetype": "text/x-python",
   "name": "python",
   "nbconvert_exporter": "python",
   "pygments_lexer": "ipython3",
   "version": "3.8.10"
  },
  "orig_nbformat": 4
 },
 "nbformat": 4,
 "nbformat_minor": 2
}
