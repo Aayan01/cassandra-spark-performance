{
 "cells": [
  {
   "cell_type": "code",
   "execution_count": 1,
   "id": "b6813ca7",
   "metadata": {},
   "outputs": [],
   "source": [
    "import findspark\n",
    "findspark.init()\n",
    "import pyspark\n",
    "from pyspark.sql import SparkSession"
   ]
  },
  {
   "cell_type": "code",
   "execution_count": 2,
   "id": "3826fca8",
   "metadata": {},
   "outputs": [
    {
     "name": "stderr",
     "output_type": "stream",
     "text": [
      "22/05/28 16:11:19 WARN Utils: Your hostname, maneesh-VirtualBox resolves to a loopback address: 127.0.1.1; using 10.0.2.15 instead (on interface enp0s3)\n",
      "22/05/28 16:11:19 WARN Utils: Set SPARK_LOCAL_IP if you need to bind to another address\n"
     ]
    },
    {
     "name": "stdout",
     "output_type": "stream",
     "text": [
      ":: loading settings :: url = jar:file:/home/maneesh/Spark/spark-3.2.1-bin-hadoop3.2/jars/ivy-2.5.0.jar!/org/apache/ivy/core/settings/ivysettings.xml\n"
     ]
    },
    {
     "name": "stderr",
     "output_type": "stream",
     "text": [
      "Ivy Default Cache set to: /home/maneesh/.ivy2/cache\n",
      "The jars for the packages stored in: /home/maneesh/.ivy2/jars\n",
      "com.datastax.spark#spark-cassandra-connector_2.12 added as a dependency\n",
      ":: resolving dependencies :: org.apache.spark#spark-submit-parent-e8dc30f7-81d5-4d9d-9b0e-0393d0225bf7;1.0\n",
      "\tconfs: [default]\n",
      "\tfound com.datastax.spark#spark-cassandra-connector_2.12;3.2.0 in central\n",
      "\tfound com.datastax.spark#spark-cassandra-connector-driver_2.12;3.2.0 in central\n",
      "\tfound com.datastax.oss#java-driver-core-shaded;4.13.0 in central\n",
      "\tfound com.datastax.oss#native-protocol;1.5.0 in central\n",
      "\tfound com.datastax.oss#java-driver-shaded-guava;25.1-jre-graal-sub-1 in central\n",
      "\tfound com.typesafe#config;1.4.1 in central\n",
      "\tfound org.slf4j#slf4j-api;1.7.26 in central\n",
      "\tfound io.dropwizard.metrics#metrics-core;4.1.18 in central\n",
      "\tfound org.hdrhistogram#HdrHistogram;2.1.12 in central\n",
      "\tfound org.reactivestreams#reactive-streams;1.0.3 in central\n",
      "\tfound com.github.stephenc.jcip#jcip-annotations;1.0-1 in central\n",
      "\tfound com.github.spotbugs#spotbugs-annotations;3.1.12 in central\n",
      "\tfound com.google.code.findbugs#jsr305;3.0.2 in central\n",
      "\tfound com.datastax.oss#java-driver-mapper-runtime;4.13.0 in central\n",
      "\tfound com.datastax.oss#java-driver-query-builder;4.13.0 in central\n",
      "\tfound org.apache.commons#commons-lang3;3.10 in central\n",
      "\tfound com.thoughtworks.paranamer#paranamer;2.8 in central\n",
      "\tfound org.scala-lang#scala-reflect;2.12.11 in central\n",
      ":: resolution report :: resolve 1075ms :: artifacts dl 43ms\n",
      "\t:: modules in use:\n",
      "\tcom.datastax.oss#java-driver-core-shaded;4.13.0 from central in [default]\n",
      "\tcom.datastax.oss#java-driver-mapper-runtime;4.13.0 from central in [default]\n",
      "\tcom.datastax.oss#java-driver-query-builder;4.13.0 from central in [default]\n",
      "\tcom.datastax.oss#java-driver-shaded-guava;25.1-jre-graal-sub-1 from central in [default]\n",
      "\tcom.datastax.oss#native-protocol;1.5.0 from central in [default]\n",
      "\tcom.datastax.spark#spark-cassandra-connector-driver_2.12;3.2.0 from central in [default]\n",
      "\tcom.datastax.spark#spark-cassandra-connector_2.12;3.2.0 from central in [default]\n",
      "\tcom.github.spotbugs#spotbugs-annotations;3.1.12 from central in [default]\n",
      "\tcom.github.stephenc.jcip#jcip-annotations;1.0-1 from central in [default]\n",
      "\tcom.google.code.findbugs#jsr305;3.0.2 from central in [default]\n",
      "\tcom.thoughtworks.paranamer#paranamer;2.8 from central in [default]\n",
      "\tcom.typesafe#config;1.4.1 from central in [default]\n",
      "\tio.dropwizard.metrics#metrics-core;4.1.18 from central in [default]\n",
      "\torg.apache.commons#commons-lang3;3.10 from central in [default]\n",
      "\torg.hdrhistogram#HdrHistogram;2.1.12 from central in [default]\n",
      "\torg.reactivestreams#reactive-streams;1.0.3 from central in [default]\n",
      "\torg.scala-lang#scala-reflect;2.12.11 from central in [default]\n",
      "\torg.slf4j#slf4j-api;1.7.26 from central in [default]\n",
      "\t---------------------------------------------------------------------\n",
      "\t|                  |            modules            ||   artifacts   |\n",
      "\t|       conf       | number| search|dwnlded|evicted|| number|dwnlded|\n",
      "\t---------------------------------------------------------------------\n",
      "\t|      default     |   18  |   0   |   0   |   0   ||   18  |   0   |\n",
      "\t---------------------------------------------------------------------\n",
      ":: retrieving :: org.apache.spark#spark-submit-parent-e8dc30f7-81d5-4d9d-9b0e-0393d0225bf7\n",
      "\tconfs: [default]\n",
      "\t0 artifacts copied, 18 already retrieved (0kB/39ms)\n",
      "22/05/28 16:11:22 WARN NativeCodeLoader: Unable to load native-hadoop library for your platform... using builtin-java classes where applicable\n",
      "Using Spark's default log4j profile: org/apache/spark/log4j-defaults.properties\n",
      "Setting default log level to \"WARN\".\n",
      "To adjust logging level use sc.setLogLevel(newLevel). For SparkR, use setLogLevel(newLevel).\n"
     ]
    }
   ],
   "source": [
    "spark = SparkSession.builder.appName(\"RF\").getOrCreate()"
   ]
  },
  {
   "cell_type": "code",
   "execution_count": 3,
   "id": "3aa14a35",
   "metadata": {},
   "outputs": [],
   "source": [
    "import time\n",
    "import cassandra\n",
    "from cassandra.cluster import Cluster\n",
    "cluster = Cluster(['127.0.0.1'])\n",
    "session = cluster.connect()"
   ]
  },
  {
   "cell_type": "code",
   "execution_count": 4,
   "id": "bfd71bdd",
   "metadata": {},
   "outputs": [],
   "source": [
    "df = spark.read.format(\"org.apache.spark.sql.cassandra\").options(table=\"person_year_time\", keyspace=\"healthcare\").load()"
   ]
  },
  {
   "cell_type": "code",
   "execution_count": 5,
   "id": "f02b0c14",
   "metadata": {},
   "outputs": [
    {
     "name": "stderr",
     "output_type": "stream",
     "text": [
      "\r",
      "[Stage 0:>                                                          (0 + 1) / 1]\r"
     ]
    },
    {
     "name": "stdout",
     "output_type": "stream",
     "text": [
      "+--------------------+----+--------------------+---+-------+---------+---+---------+-----+\n",
      "|                 pid|year|                time| bp|calorie|heartbeat|mon|     name|   o2|\n",
      "+--------------------+----+--------------------+---+-------+---------+---+---------+-----+\n",
      "|61106f63-ac3e-41a...|2020|2022-05-28 15:38:...| 60|    135|       88|Jul|   ROHITH|18.38|\n",
      "|46b5cd3a-cfe7-4fc...|2022|2022-05-28 15:38:...| 75|     96|       81|Aug|   MAYANK|12.21|\n",
      "|b7224853-f9b0-4dd...|2021|2022-05-28 15:38:...|103|     83|       84|Jul|  ACHYUTH|14.63|\n",
      "|1b015dc8-aa00-4df...|2020|2022-05-28 15:38:...| 53|    119|       88|Jun|     TEJA|11.91|\n",
      "|873b00fe-fc19-417...|2019|2022-05-28 15:38:...|149|     98|       89|Jun|   GOVIND|11.26|\n",
      "|6555151c-c636-43c...|2015|2022-05-28 15:38:...|147|    150|       86|May|     TEJA|14.03|\n",
      "|99be98e4-ade5-425...|2019|2022-05-28 15:38:...|146|     76|       89|Nov|  ACHYUTH|18.05|\n",
      "|7b77d9ec-3365-438...|2016|2022-05-28 15:38:...| 62|     67|       81|Jul|     MANU|14.05|\n",
      "|71ab1bfd-9bc0-463...|2016|2022-05-28 15:38:...| 83|     86|       56|Nov|     MANU|11.56|\n",
      "|167a7dcc-6125-4c8...|2019|2022-05-28 15:38:...| 56|     74|       78|Nov|   LOKESH|14.32|\n",
      "|a70b3360-86a3-4d4...|2020|2022-05-28 15:38:...| 69|     92|       63|Nov|   ROHITH|17.69|\n",
      "|3bb3ca4e-0d5d-442...|2015|2022-05-28 15:38:...|123|    149|       77|Jan|     MANU|15.43|\n",
      "|7fc501fb-c18a-44c...|2022|2022-05-28 15:38:...|136|    131|       65|Aug|    AJITH|14.89|\n",
      "|123039c1-b5a2-4d5...|2019|2022-05-28 15:38:...|119|    134|       90|May|   ROHITH|12.05|\n",
      "|d56346a7-fa7a-40d...|2022|2022-05-28 15:38:...|100|     56|       89|Jul|     TEJA|13.83|\n",
      "|b972c0f8-ae49-46a...|2020|2022-05-28 15:38:...|128|     97|       66|Jan|     MANU|16.17|\n",
      "|f1d4353a-d107-471...|2018|2022-05-28 15:38:...|126|    109|       75|Dec|     MANU|15.78|\n",
      "|b22e4f8f-eb2e-479...|2022|2022-05-28 15:38:...|147|     67|       51|Jun|   AKSHIT|13.87|\n",
      "|634f3a06-6693-4d3...|2022|2022-05-28 15:38:...| 86|    109|       79|Jul|ABHIMANYU| 18.5|\n",
      "|7485069b-0222-4fa...|2018|2022-05-28 15:38:...|142|    143|       62|Sep|   LOKESH|18.88|\n",
      "+--------------------+----+--------------------+---+-------+---------+---+---------+-----+\n",
      "only showing top 20 rows\n",
      "\n",
      "Time taken to load all the data 5.998339891433716 seconds\n"
     ]
    },
    {
     "name": "stderr",
     "output_type": "stream",
     "text": [
      "\r",
      "                                                                                \r"
     ]
    }
   ],
   "source": [
    "start=time.time()\n",
    "df.show()\n",
    "time_taken=time.time()-start\n",
    "print(\"Time taken to load all the data \"+ str(time_taken) + \" seconds\")"
   ]
  },
  {
   "cell_type": "code",
   "execution_count": 6,
   "id": "d4c890a7",
   "metadata": {},
   "outputs": [
    {
     "name": "stdout",
     "output_type": "stream",
     "text": [
      "+--------------------+----+-----+\n",
      "|                 pid|year|count|\n",
      "+--------------------+----+-----+\n",
      "|e35a72f1-7e04-4fb...|2018|    1|\n",
      "|f373d356-644a-490...|2020|    1|\n",
      "|7563fc6a-1c45-496...|2022|    1|\n",
      "|10ac4968-61d3-43d...|2018|    1|\n",
      "|0110e3ad-1470-4f5...|2022|    1|\n",
      "|eda792e5-07a9-4af...|2019|    1|\n",
      "|8cee4be7-792c-46c...|2015|    1|\n",
      "|b2a92e74-425f-477...|2021|    1|\n",
      "|ff4ee94b-eab3-4d2...|2022|    1|\n",
      "|623c5873-3d30-422...|2020|    1|\n",
      "|a4999f70-9736-490...|2021|    1|\n",
      "|a15cb67c-a59a-42c...|2017|    1|\n",
      "|0a5d117b-3f24-4d9...|2018|    1|\n",
      "|311c4ec5-38ed-44b...|2016|    1|\n",
      "|d2c2de93-aa27-4a2...|2018|    1|\n",
      "|3ddc74a6-17db-413...|2015|    1|\n",
      "|ca892858-1352-4ef...|2016|    1|\n",
      "|4bf9ca8f-2d46-4af...|2017|    1|\n",
      "|8ea657b5-2408-4d9...|2015|    1|\n",
      "|b7fb96a2-9edd-458...|2017|    1|\n",
      "+--------------------+----+-----+\n",
      "only showing top 20 rows\n",
      "\n",
      "Time taken to load all the data using GroupBy 1.7021965980529785 seconds\n"
     ]
    },
    {
     "name": "stderr",
     "output_type": "stream",
     "text": [
      "\r",
      "[Stage 1:>                                                          (0 + 1) / 1]\r",
      "\r",
      "                                                                                \r"
     ]
    }
   ],
   "source": [
    "start= time.time()\n",
    "df.groupBy([\"pid\", \"year\"]).count().show()\n",
    "time_taken=time.time()-start\n",
    "print(\"Time taken to load all the data using GroupBy \"+ str(time_taken) + \" seconds\")"
   ]
  },
  {
   "cell_type": "code",
   "execution_count": 7,
   "id": "3b22df20",
   "metadata": {},
   "outputs": [
    {
     "name": "stdout",
     "output_type": "stream",
     "text": [
      "+--------------------+----+--------------------+---+-------+---------+---+---------+-----+\n",
      "|                 pid|year|                time| bp|calorie|heartbeat|mon|     name|   o2|\n",
      "+--------------------+----+--------------------+---+-------+---------+---+---------+-----+\n",
      "|e2d2b809-6ce6-49f...|2022|2022-05-28 15:38:...|111|    138|       58|Mar|    AJITH|12.66|\n",
      "|fc54b34b-d8ad-48b...|2022|2022-05-28 15:38:...|145|     96|       86|Mar|     TEJA|17.28|\n",
      "|53e83f16-7852-4f7...|2022|2022-05-28 15:38:...| 72|    120|       87|Dec|     TEJA|16.56|\n",
      "|44a70fd9-2e65-44d...|2022|2022-05-28 15:38:...|137|    145|       52|Aug|ABHIMANYU|15.71|\n",
      "|0f9bc9c8-c2ed-4c8...|2022|2022-05-28 15:38:...| 78|    106|       62|Apr|     TEJA|12.18|\n",
      "|2d3b6789-466b-4b7...|2022|2022-05-28 15:38:...| 55|    134|       66|Jul|ABHIMANYU|16.68|\n",
      "|609a983d-69e4-43b...|2022|2022-05-28 15:38:...|112|    148|       62|Sep|   AKSHIT|14.28|\n",
      "|db7524ca-c8a2-4df...|2022|2022-05-28 15:38:...|130|    109|       85|Apr|   AKSHIT|17.42|\n",
      "|6070ab3e-78dc-4bb...|2022|2022-05-28 15:38:...|135|     62|       73|Mar|ABHIMANYU|11.32|\n",
      "|56c06528-9a35-49d...|2022|2022-05-28 15:38:...| 50|     73|       79|May|    AAYAN|14.05|\n",
      "|4d3b5ea9-a11d-448...|2022|2022-05-28 15:38:...|112|     91|       55|Mar|   AKSHIT|17.85|\n",
      "|46b5cd3a-cfe7-4fc...|2022|2022-05-28 15:38:...| 75|     96|       81|Aug|   MAYANK|12.21|\n",
      "|7fc501fb-c18a-44c...|2022|2022-05-28 15:38:...|136|    131|       65|Aug|    AJITH|14.89|\n",
      "|d56346a7-fa7a-40d...|2022|2022-05-28 15:38:...|100|     56|       89|Jul|     TEJA|13.83|\n",
      "|b22e4f8f-eb2e-479...|2022|2022-05-28 15:38:...|147|     67|       51|Jun|   AKSHIT|13.87|\n",
      "|634f3a06-6693-4d3...|2022|2022-05-28 15:38:...| 86|    109|       79|Jul|ABHIMANYU| 18.5|\n",
      "|e1592412-5f4a-47d...|2022|2022-05-28 15:38:...| 53|    130|       72|Jan|   GOVIND|12.11|\n",
      "|4f733e95-8dd8-471...|2022|2022-05-28 15:38:...|121|    104|       64|Aug|   ROHITH|16.26|\n",
      "|be13e403-5f21-486...|2022|2022-05-28 15:38:...| 50|    112|       67|Jun|    AJITH|18.67|\n",
      "|57ceee16-00a2-48d...|2022|2022-05-28 15:38:...| 52|     56|       80|Dec|   MAYANK|11.06|\n",
      "+--------------------+----+--------------------+---+-------+---------+---+---------+-----+\n",
      "only showing top 20 rows\n",
      "\n",
      "Time taken to load all the data using filter 1.2361953258514404 seconds\n"
     ]
    }
   ],
   "source": [
    "start = time.time()\n",
    "df.filter(df.year==2022).show()\n",
    "time_taken=time.time()-start\n",
    "print(\"Time taken to load all the data using filter \"+ str(time_taken) + \" seconds\")"
   ]
  },
  {
   "cell_type": "code",
   "execution_count": 8,
   "id": "0ea238bf",
   "metadata": {},
   "outputs": [
    {
     "name": "stdout",
     "output_type": "stream",
     "text": [
      "+------------------------------------+----+-----------------------+---+-------+---------+---+---------+-----+\n",
      "|pid                                 |year|time                   |bp |calorie|heartbeat|mon|name     |o2   |\n",
      "+------------------------------------+----+-----------------------+---+-------+---------+---+---------+-----+\n",
      "|000e2a21-391a-4761-ad5f-b67b94bd2da4|2019|2022-05-28 15:38:05.717|105|134    |54       |Apr|AJITH    |15.05|\n",
      "|00241c14-9820-45f3-b6cf-452fbc04d58c|2018|2022-05-28 15:38:09.326|109|79     |78       |Dec|MANEESH  |15.66|\n",
      "|007a5301-36fb-4cc1-a02b-12e9415b2dc3|2018|2022-05-28 15:38:11.605|104|84     |79       |Feb|ACHYUTH  |17.13|\n",
      "|00d236d9-ae5d-4c9b-8a1e-a5f1ba806294|2016|2022-05-28 15:38:05.508|93 |117    |61       |Apr|ACHYUTH  |12.09|\n",
      "|00e7a250-2128-43a2-abf8-cca157b98dc3|2017|2022-05-28 15:38:11.378|124|97     |67       |May|MANU     |12.85|\n",
      "|0110e3ad-1470-4f56-b646-be003fa42c0a|2022|2022-05-28 15:38:09.402|90 |110    |68       |Jun|MANU     |15.68|\n",
      "|0117339e-06c9-427b-94fc-bfe15116e625|2015|2022-05-28 15:38:09.147|87 |68     |57       |Apr|MAYANK   |10.85|\n",
      "|012b15be-cb60-4ac4-b7a8-1e4b0564e019|2021|2022-05-28 15:38:10.879|107|126    |81       |Jan|AAYAN    |16.64|\n",
      "|0145740e-7b10-41d5-bd53-403fcd4acde0|2018|2022-05-28 15:38:09.007|84 |95     |77       |Aug|MAYANK   |15.13|\n",
      "|0147db57-a129-4d9b-b30d-dbd15c66155f|2021|2022-05-28 15:38:09.618|57 |96     |78       |Jul|LOKESH   |15.06|\n",
      "|01c129b5-faac-4fe2-865f-0ce3e922d09d|2019|2022-05-28 15:38:08.191|131|58     |75       |Aug|HIMASAI  |14.13|\n",
      "|027a69a4-e7fa-48b6-9362-5cec96a38454|2017|2022-05-28 15:38:06.427|149|102    |62       |Jun|ROHITH   |11.23|\n",
      "|0298de8f-603d-4b4d-8e32-2513a3dc580d|2017|2022-05-28 15:38:07.67 |96 |113    |57       |Jun|AJITH    |11.33|\n",
      "|029f09e1-62f8-4936-a934-71f669a98ae4|2020|2022-05-28 15:38:05.317|105|100    |84       |Jun|AKSHIT   |14.72|\n",
      "|02ee1f8f-fff4-4b48-8161-dd17b3756c4b|2017|2022-05-28 15:38:07.362|54 |84     |75       |Dec|LOKESH   |15.73|\n",
      "|03401c23-ed16-4a6b-a685-782250b42396|2015|2022-05-28 15:38:04.986|102|102    |86       |Oct|AKSHIT   |17.33|\n",
      "|03407fc3-e1f5-4ec6-b28e-c598d98900a1|2015|2022-05-28 15:38:04.697|146|139    |54       |Dec|ABHIMANYU|12.29|\n",
      "|0351c8b8-3860-493d-b77f-798ee0a221ef|2021|2022-05-28 15:38:04.127|69 |83     |60       |Dec|AJITH    |15.07|\n",
      "|035ac10e-d6ab-44bb-b302-660a03d2643e|2017|2022-05-28 15:38:08.3  |129|79     |50       |Dec|MAYANK   |15.91|\n",
      "|0391c00b-2450-4e1c-91d8-2a16b3f853b4|2019|2022-05-28 15:38:11.988|119|132    |54       |Oct|LOKESH   |16.87|\n",
      "+------------------------------------+----+-----------------------+---+-------+---------+---+---------+-----+\n",
      "only showing top 20 rows\n",
      "\n",
      "Time taken to load all the data using OrderBy 0.9167377948760986 seconds\n"
     ]
    }
   ],
   "source": [
    "start = time.time()\n",
    "df.orderBy(\"pid\").show(truncate=False)\n",
    "time_taken=time.time()-start\n",
    "print(\"Time taken to load all the data using OrderBy \"+ str(time_taken) + \" seconds\")"
   ]
  },
  {
   "cell_type": "code",
   "execution_count": null,
   "id": "5c80ddd2",
   "metadata": {},
   "outputs": [],
   "source": []
  }
 ],
 "metadata": {
  "kernelspec": {
   "display_name": "Python 3 (ipykernel)",
   "language": "python",
   "name": "python3"
  },
  "language_info": {
   "codemirror_mode": {
    "name": "ipython",
    "version": 3
   },
   "file_extension": ".py",
   "mimetype": "text/x-python",
   "name": "python",
   "nbconvert_exporter": "python",
   "pygments_lexer": "ipython3",
   "version": "3.8.10"
  }
 },
 "nbformat": 4,
 "nbformat_minor": 5
}
