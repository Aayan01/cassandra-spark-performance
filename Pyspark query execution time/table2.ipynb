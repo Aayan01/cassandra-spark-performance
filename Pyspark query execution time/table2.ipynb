{
 "cells": [
  {
   "cell_type": "code",
   "execution_count": 1,
   "metadata": {},
   "outputs": [
    {
     "name": "stdout",
     "output_type": "stream",
     "text": [
      "Requirement already satisfied: cassandra-driver in /home/maneesh/.local/lib/python3.8/site-packages (3.25.0)\n",
      "Requirement already satisfied: geomet<0.3,>=0.1 in /home/maneesh/.local/lib/python3.8/site-packages (from cassandra-driver) (0.2.1.post1)\n",
      "Requirement already satisfied: six>=1.9 in /usr/lib/python3/dist-packages (from cassandra-driver) (1.14.0)\n",
      "Requirement already satisfied: click in /usr/local/lib/python3.8/dist-packages (from geomet<0.3,>=0.1->cassandra-driver) (8.1.3)\n",
      "Note: you may need to restart the kernel to use updated packages.\n"
     ]
    }
   ],
   "source": [
    "pip install cassandra-driver"
   ]
  },
  {
   "cell_type": "code",
   "execution_count": 3,
   "metadata": {},
   "outputs": [],
   "source": [
    "import uuid \n",
    "import random\n",
    "from datetime import datetime, timedelta\n",
    "from cassandra.cluster import Cluster\n",
    "\n",
    "cluster = Cluster(['127.0.0.1'], port=9042)\n",
    "session = cluster.connect('healthcare')"
   ]
  },
  {
   "cell_type": "code",
   "execution_count": 9,
   "metadata": {},
   "outputs": [],
   "source": [
    "a = 500000\n",
    "def insert():\n",
    "\n",
    "    \n",
    "    tid = int(random.randint(1, a))\n",
    "    bp = str(str(random.randint(90,140)) + \"/\" + str(random.randint(60,90)))\n",
    "    calorie = int(random.randint(50,150))\n",
    "    o2 = float(random.randint(10,18) + random.random())\n",
    "    heart = int(random.randint(50,90))\n",
    "\n",
    "\n",
    "    CQLString = \"INSERT INTO table_2(testID, bp, calorie, o2, heartbeat) VALUES (%s,%s,%s,%s,%s)\"\n",
    "    session.execute(CQLString, (tid, bp, calorie, o2, heart))\n",
    "\n",
    "\n",
    "for i in range(a):\n",
    "    insert()"
   ]
  },
  {
   "cell_type": "code",
   "execution_count": null,
   "metadata": {},
   "outputs": [],
   "source": []
  }
 ],
 "metadata": {
  "interpreter": {
   "hash": "916dbcbb3f70747c44a77c7bcd40155683ae19c65e1c03b4aa3499c5328201f1"
  },
  "kernelspec": {
   "display_name": "Python 3.8.10 64-bit",
   "language": "python",
   "name": "python3"
  },
  "language_info": {
   "codemirror_mode": {
    "name": "ipython",
    "version": 3
   },
   "file_extension": ".py",
   "mimetype": "text/x-python",
   "name": "python",
   "nbconvert_exporter": "python",
   "pygments_lexer": "ipython3",
   "version": "3.8.10"
  },
  "orig_nbformat": 4
 },
 "nbformat": 4,
 "nbformat_minor": 2
}
